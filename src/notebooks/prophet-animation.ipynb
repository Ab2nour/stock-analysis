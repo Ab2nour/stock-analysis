{
 "cells": [
  {
   "cell_type": "code",
   "execution_count": 1,
   "id": "caa5a1dfe6ebb3d7",
   "metadata": {
    "ExecuteTime": {
     "end_time": "2025-10-11T14:17:31.708442Z",
     "start_time": "2025-10-11T14:17:28.065918Z"
    }
   },
   "outputs": [],
   "source": [
    "import matplotlib.animation as animation\n",
    "import matplotlib.pyplot as plt\n",
    "import numpy as np\n",
    "import pandas as pd\n",
    "from prophet import Prophet\n",
    "\n",
    "from src.utils import init_notebook"
   ]
  },
  {
   "cell_type": "code",
   "execution_count": 2,
   "id": "68f0608e62ebb310",
   "metadata": {
    "ExecuteTime": {
     "end_time": "2025-10-11T14:17:31.734793Z",
     "start_time": "2025-10-11T14:17:31.729881Z"
    }
   },
   "outputs": [],
   "source": [
    "init_notebook()"
   ]
  },
  {
   "cell_type": "code",
   "execution_count": null,
   "id": "initial_id",
   "metadata": {
    "ExecuteTime": {
     "end_time": "2025-10-11T14:17:31.740788Z",
     "start_time": "2025-10-11T14:17:31.739008Z"
    },
    "collapsed": true
   },
   "outputs": [],
   "source": []
  },
  {
   "cell_type": "code",
   "execution_count": null,
   "id": "f0bb2d5b3d9bd551",
   "metadata": {
    "ExecuteTime": {
     "end_time": "2025-10-11T14:17:31.746153Z",
     "start_time": "2025-10-11T14:17:31.744616Z"
    }
   },
   "outputs": [],
   "source": []
  },
  {
   "cell_type": "markdown",
   "id": "e3e070461ebcb0e9",
   "metadata": {},
   "source": "## Prophet"
  },
  {
   "cell_type": "markdown",
   "id": "b103406b35789998",
   "metadata": {},
   "source": "### Pré-traitement pour Prophet"
  },
  {
   "cell_type": "code",
   "execution_count": null,
   "id": "8f16b13634e5d484",
   "metadata": {
    "ExecuteTime": {
     "end_time": "2025-10-11T14:17:31.770833Z",
     "start_time": "2025-10-11T14:17:31.768349Z"
    }
   },
   "outputs": [],
   "source": []
  },
  {
   "cell_type": "code",
   "execution_count": 3,
   "id": "fcf50d761d2247db",
   "metadata": {
    "ExecuteTime": {
     "end_time": "2025-10-11T14:17:32.346613Z",
     "start_time": "2025-10-11T14:17:32.317841Z"
    }
   },
   "outputs": [
    {
     "name": "stdout",
     "output_type": "stream",
     "text": [
      "df.shape = (756, 6)\n"
     ]
    }
   ],
   "source": [
    "# relecture des données (sans detrend)\n",
    "data_folder = \"data/raw\"\n",
    "stock_name = \"AAPL\"\n",
    "df = pd.read_csv(\n",
    "    f\"{data_folder}/{stock_name}.csv\", parse_dates=[\"Date\"], index_col=\"Date\"\n",
    ")\n",
    "print(f\"{df.shape = }\")"
   ]
  },
  {
   "cell_type": "code",
   "execution_count": 4,
   "id": "61e2c887791dc9c3",
   "metadata": {
    "ExecuteTime": {
     "end_time": "2025-10-11T14:17:32.426243Z",
     "start_time": "2025-10-11T14:17:32.410989Z"
    }
   },
   "outputs": [],
   "source": [
    "train_start_date = \"2019\"\n",
    "train_end_date = \"2021-10-01\"\n",
    "df_train = df.loc[train_start_date:train_end_date].copy()\n",
    "df_test = df.loc[train_end_date:].copy()"
   ]
  },
  {
   "cell_type": "code",
   "execution_count": 5,
   "id": "2adcb7eebb92f638",
   "metadata": {
    "ExecuteTime": {
     "end_time": "2025-10-11T14:17:32.451932Z",
     "start_time": "2025-10-11T14:17:32.446434Z"
    }
   },
   "outputs": [],
   "source": [
    "df_train[\"time_dummy\"] = range(len(df_train))\n",
    "df_test[\"time_dummy\"] = range(len(df_test))\n",
    "df_test[\"time_dummy\"] += len(df_train)\n",
    "df_train[\"day\"] = df_train.index.day\n",
    "df_test[\"day\"] = df_test.index.day"
   ]
  },
  {
   "cell_type": "code",
   "execution_count": 6,
   "id": "a091f4a6d4359597",
   "metadata": {
    "ExecuteTime": {
     "end_time": "2025-10-11T14:17:32.469899Z",
     "start_time": "2025-10-11T14:17:32.464062Z"
    }
   },
   "outputs": [
    {
     "data": {
      "text/plain": [
       "(694, 8)"
      ]
     },
     "execution_count": 6,
     "metadata": {},
     "output_type": "execute_result"
    }
   ],
   "source": [
    "df_train.shape"
   ]
  },
  {
   "cell_type": "code",
   "execution_count": 7,
   "id": "2d3ec88769bd8d7a",
   "metadata": {
    "ExecuteTime": {
     "end_time": "2025-10-11T14:17:32.501412Z",
     "start_time": "2025-10-11T14:17:32.496821Z"
    }
   },
   "outputs": [],
   "source": [
    "x = df_train[[]].copy()"
   ]
  },
  {
   "cell_type": "code",
   "execution_count": 8,
   "id": "e4234fd5dbbe350d",
   "metadata": {
    "ExecuteTime": {
     "end_time": "2025-10-11T14:17:32.532304Z",
     "start_time": "2025-10-11T14:17:32.529877Z"
    }
   },
   "outputs": [],
   "source": [
    "x_col = [\"time_dummy\", \"day\"]\n",
    "y_col = [\"Close\"]"
   ]
  },
  {
   "cell_type": "code",
   "execution_count": 9,
   "id": "e569173d299213e7",
   "metadata": {
    "ExecuteTime": {
     "end_time": "2025-10-11T14:17:32.565903Z",
     "start_time": "2025-10-11T14:17:32.560111Z"
    }
   },
   "outputs": [],
   "source": [
    "x[\"ds\"] = df_train.index\n",
    "x[\"y\"] = df_train[[\"Close\"]]"
   ]
  },
  {
   "cell_type": "code",
   "execution_count": 10,
   "id": "fc4c6ecd9d11d91d",
   "metadata": {
    "ExecuteTime": {
     "end_time": "2025-10-11T14:17:32.591966Z",
     "start_time": "2025-10-11T14:17:32.575846Z"
    }
   },
   "outputs": [
    {
     "data": {
      "text/html": [
       "<div>\n",
       "<style scoped>\n",
       "    .dataframe tbody tr th:only-of-type {\n",
       "        vertical-align: middle;\n",
       "    }\n",
       "\n",
       "    .dataframe tbody tr th {\n",
       "        vertical-align: top;\n",
       "    }\n",
       "\n",
       "    .dataframe thead th {\n",
       "        text-align: right;\n",
       "    }\n",
       "</style>\n",
       "<table border=\"1\" class=\"dataframe\">\n",
       "  <thead>\n",
       "    <tr style=\"text-align: right;\">\n",
       "      <th></th>\n",
       "      <th>Open</th>\n",
       "      <th>High</th>\n",
       "      <th>Low</th>\n",
       "      <th>Close</th>\n",
       "      <th>Adj Close</th>\n",
       "      <th>Volume</th>\n",
       "      <th>time_dummy</th>\n",
       "      <th>day</th>\n",
       "    </tr>\n",
       "    <tr>\n",
       "      <th>Date</th>\n",
       "      <th></th>\n",
       "      <th></th>\n",
       "      <th></th>\n",
       "      <th></th>\n",
       "      <th></th>\n",
       "      <th></th>\n",
       "      <th></th>\n",
       "      <th></th>\n",
       "    </tr>\n",
       "  </thead>\n",
       "  <tbody>\n",
       "    <tr>\n",
       "      <th>2021-10-01</th>\n",
       "      <td>141.899994</td>\n",
       "      <td>142.919998</td>\n",
       "      <td>139.110001</td>\n",
       "      <td>142.649994</td>\n",
       "      <td>141.018539</td>\n",
       "      <td>94639600</td>\n",
       "      <td>694</td>\n",
       "      <td>1</td>\n",
       "    </tr>\n",
       "    <tr>\n",
       "      <th>2021-10-04</th>\n",
       "      <td>141.759995</td>\n",
       "      <td>142.210007</td>\n",
       "      <td>138.270004</td>\n",
       "      <td>139.139999</td>\n",
       "      <td>137.548676</td>\n",
       "      <td>98322000</td>\n",
       "      <td>695</td>\n",
       "      <td>4</td>\n",
       "    </tr>\n",
       "    <tr>\n",
       "      <th>2021-10-05</th>\n",
       "      <td>139.490005</td>\n",
       "      <td>142.240005</td>\n",
       "      <td>139.360001</td>\n",
       "      <td>141.110001</td>\n",
       "      <td>139.496140</td>\n",
       "      <td>80861100</td>\n",
       "      <td>696</td>\n",
       "      <td>5</td>\n",
       "    </tr>\n",
       "    <tr>\n",
       "      <th>2021-10-06</th>\n",
       "      <td>139.470001</td>\n",
       "      <td>142.149994</td>\n",
       "      <td>138.369995</td>\n",
       "      <td>142.000000</td>\n",
       "      <td>140.375946</td>\n",
       "      <td>83221100</td>\n",
       "      <td>697</td>\n",
       "      <td>6</td>\n",
       "    </tr>\n",
       "    <tr>\n",
       "      <th>2021-10-07</th>\n",
       "      <td>143.059998</td>\n",
       "      <td>144.220001</td>\n",
       "      <td>142.720001</td>\n",
       "      <td>143.289993</td>\n",
       "      <td>141.651215</td>\n",
       "      <td>61732700</td>\n",
       "      <td>698</td>\n",
       "      <td>7</td>\n",
       "    </tr>\n",
       "  </tbody>\n",
       "</table>\n",
       "</div>"
      ],
      "text/plain": [
       "                  Open        High         Low       Close   Adj Close  \\\n",
       "Date                                                                     \n",
       "2021-10-01  141.899994  142.919998  139.110001  142.649994  141.018539   \n",
       "2021-10-04  141.759995  142.210007  138.270004  139.139999  137.548676   \n",
       "2021-10-05  139.490005  142.240005  139.360001  141.110001  139.496140   \n",
       "2021-10-06  139.470001  142.149994  138.369995  142.000000  140.375946   \n",
       "2021-10-07  143.059998  144.220001  142.720001  143.289993  141.651215   \n",
       "\n",
       "              Volume  time_dummy  day  \n",
       "Date                                   \n",
       "2021-10-01  94639600         694    1  \n",
       "2021-10-04  98322000         695    4  \n",
       "2021-10-05  80861100         696    5  \n",
       "2021-10-06  83221100         697    6  \n",
       "2021-10-07  61732700         698    7  "
      ]
     },
     "execution_count": 10,
     "metadata": {},
     "output_type": "execute_result"
    }
   ],
   "source": [
    "df_test.head()"
   ]
  },
  {
   "cell_type": "code",
   "execution_count": 11,
   "id": "570f5709d9f24eda",
   "metadata": {
    "ExecuteTime": {
     "end_time": "2025-10-11T14:17:32.616633Z",
     "start_time": "2025-10-11T14:17:32.612301Z"
    }
   },
   "outputs": [],
   "source": [
    "x_test = df_test[x_col]\n",
    "y_test = df_test[y_col]"
   ]
  },
  {
   "cell_type": "code",
   "execution_count": 12,
   "id": "64093e5ad7a9fb46",
   "metadata": {
    "ExecuteTime": {
     "end_time": "2025-10-11T14:17:32.650546Z",
     "start_time": "2025-10-11T14:17:32.644604Z"
    }
   },
   "outputs": [
    {
     "data": {
      "text/html": [
       "<div>\n",
       "<style scoped>\n",
       "    .dataframe tbody tr th:only-of-type {\n",
       "        vertical-align: middle;\n",
       "    }\n",
       "\n",
       "    .dataframe tbody tr th {\n",
       "        vertical-align: top;\n",
       "    }\n",
       "\n",
       "    .dataframe thead th {\n",
       "        text-align: right;\n",
       "    }\n",
       "</style>\n",
       "<table border=\"1\" class=\"dataframe\">\n",
       "  <thead>\n",
       "    <tr style=\"text-align: right;\">\n",
       "      <th></th>\n",
       "      <th>ds</th>\n",
       "      <th>y</th>\n",
       "    </tr>\n",
       "    <tr>\n",
       "      <th>Date</th>\n",
       "      <th></th>\n",
       "      <th></th>\n",
       "    </tr>\n",
       "  </thead>\n",
       "  <tbody>\n",
       "    <tr>\n",
       "      <th>2019-01-02</th>\n",
       "      <td>2019-01-02</td>\n",
       "      <td>39.480000</td>\n",
       "    </tr>\n",
       "    <tr>\n",
       "      <th>2019-01-03</th>\n",
       "      <td>2019-01-03</td>\n",
       "      <td>35.547501</td>\n",
       "    </tr>\n",
       "    <tr>\n",
       "      <th>2019-01-04</th>\n",
       "      <td>2019-01-04</td>\n",
       "      <td>37.064999</td>\n",
       "    </tr>\n",
       "    <tr>\n",
       "      <th>2019-01-07</th>\n",
       "      <td>2019-01-07</td>\n",
       "      <td>36.982498</td>\n",
       "    </tr>\n",
       "    <tr>\n",
       "      <th>2019-01-08</th>\n",
       "      <td>2019-01-08</td>\n",
       "      <td>37.687500</td>\n",
       "    </tr>\n",
       "  </tbody>\n",
       "</table>\n",
       "</div>"
      ],
      "text/plain": [
       "                   ds          y\n",
       "Date                            \n",
       "2019-01-02 2019-01-02  39.480000\n",
       "2019-01-03 2019-01-03  35.547501\n",
       "2019-01-04 2019-01-04  37.064999\n",
       "2019-01-07 2019-01-07  36.982498\n",
       "2019-01-08 2019-01-08  37.687500"
      ]
     },
     "execution_count": 12,
     "metadata": {},
     "output_type": "execute_result"
    }
   ],
   "source": [
    "x.head()"
   ]
  },
  {
   "cell_type": "markdown",
   "id": "15f556f25b1828ba",
   "metadata": {},
   "source": "### Prédiction"
  },
  {
   "cell_type": "markdown",
   "id": "5bb8ebede693aee7",
   "metadata": {},
   "source": "#### Calcul de la prédiction"
  },
  {
   "cell_type": "code",
   "execution_count": 13,
   "id": "eeb0e6b014049e46",
   "metadata": {
    "ExecuteTime": {
     "end_time": "2025-10-11T14:17:33.154718Z",
     "start_time": "2025-10-11T14:17:32.660382Z"
    }
   },
   "outputs": [
    {
     "name": "stderr",
     "output_type": "stream",
     "text": [
      "16:17:32 - cmdstanpy - INFO - Chain [1] start processing\n",
      "16:17:33 - cmdstanpy - INFO - Chain [1] done processing\n"
     ]
    },
    {
     "data": {
      "text/plain": [
       "<prophet.forecaster.Prophet at 0x1ed3a03e660>"
      ]
     },
     "execution_count": 13,
     "metadata": {},
     "output_type": "execute_result"
    }
   ],
   "source": [
    "model = Prophet()\n",
    "model.fit(x)"
   ]
  },
  {
   "cell_type": "code",
   "execution_count": 14,
   "id": "9d06f40e3cb75590",
   "metadata": {
    "ExecuteTime": {
     "end_time": "2025-10-11T14:17:33.190303Z",
     "start_time": "2025-10-11T14:17:33.186501Z"
    }
   },
   "outputs": [],
   "source": [
    "future = x_test.copy()\n",
    "future[\"ds\"] = x_test.index"
   ]
  },
  {
   "cell_type": "code",
   "execution_count": 15,
   "id": "e5fad8c1e33dc678",
   "metadata": {
    "ExecuteTime": {
     "end_time": "2025-10-11T14:17:33.261479Z",
     "start_time": "2025-10-11T14:17:33.216160Z"
    }
   },
   "outputs": [
    {
     "data": {
      "text/html": [
       "<div>\n",
       "<style scoped>\n",
       "    .dataframe tbody tr th:only-of-type {\n",
       "        vertical-align: middle;\n",
       "    }\n",
       "\n",
       "    .dataframe tbody tr th {\n",
       "        vertical-align: top;\n",
       "    }\n",
       "\n",
       "    .dataframe thead th {\n",
       "        text-align: right;\n",
       "    }\n",
       "</style>\n",
       "<table border=\"1\" class=\"dataframe\">\n",
       "  <thead>\n",
       "    <tr style=\"text-align: right;\">\n",
       "      <th></th>\n",
       "      <th>ds</th>\n",
       "      <th>yhat</th>\n",
       "      <th>yhat_lower</th>\n",
       "      <th>yhat_upper</th>\n",
       "    </tr>\n",
       "  </thead>\n",
       "  <tbody>\n",
       "    <tr>\n",
       "      <th>58</th>\n",
       "      <td>2021-12-23</td>\n",
       "      <td>164.084319</td>\n",
       "      <td>158.016505</td>\n",
       "      <td>170.857023</td>\n",
       "    </tr>\n",
       "    <tr>\n",
       "      <th>59</th>\n",
       "      <td>2021-12-27</td>\n",
       "      <td>165.483298</td>\n",
       "      <td>159.591354</td>\n",
       "      <td>172.562731</td>\n",
       "    </tr>\n",
       "    <tr>\n",
       "      <th>60</th>\n",
       "      <td>2021-12-28</td>\n",
       "      <td>165.809740</td>\n",
       "      <td>159.376043</td>\n",
       "      <td>172.886401</td>\n",
       "    </tr>\n",
       "    <tr>\n",
       "      <th>61</th>\n",
       "      <td>2021-12-29</td>\n",
       "      <td>166.157137</td>\n",
       "      <td>160.073954</td>\n",
       "      <td>173.173557</td>\n",
       "    </tr>\n",
       "    <tr>\n",
       "      <th>62</th>\n",
       "      <td>2021-12-30</td>\n",
       "      <td>166.183145</td>\n",
       "      <td>160.306439</td>\n",
       "      <td>173.640312</td>\n",
       "    </tr>\n",
       "  </tbody>\n",
       "</table>\n",
       "</div>"
      ],
      "text/plain": [
       "           ds        yhat  yhat_lower  yhat_upper\n",
       "58 2021-12-23  164.084319  158.016505  170.857023\n",
       "59 2021-12-27  165.483298  159.591354  172.562731\n",
       "60 2021-12-28  165.809740  159.376043  172.886401\n",
       "61 2021-12-29  166.157137  160.073954  173.173557\n",
       "62 2021-12-30  166.183145  160.306439  173.640312"
      ]
     },
     "execution_count": 15,
     "metadata": {},
     "output_type": "execute_result"
    }
   ],
   "source": [
    "forecast = model.predict(future)\n",
    "forecast[[\"ds\", \"yhat\", \"yhat_lower\", \"yhat_upper\"]].tail()"
   ]
  },
  {
   "cell_type": "markdown",
   "id": "6e875b1de3eecdf4",
   "metadata": {},
   "source": "#### Affichage de la prédiction"
  },
  {
   "cell_type": "code",
   "execution_count": 47,
   "id": "c86e86b9a487a983",
   "metadata": {
    "ExecuteTime": {
     "end_time": "2025-10-07T23:19:49.723764Z",
     "start_time": "2025-10-07T23:19:49.542877Z"
    }
   },
   "outputs": [
    {
     "name": "stderr",
     "output_type": "stream",
     "text": [
      "C:\\Users\\AB2-PC\\Documents\\GitHub\\ab2\\stock-analysis\\.venv\\Lib\\site-packages\\pandas\\plotting\\_matplotlib\\core.py:981: UserWarning: This axis already has a converter set and is updating to a potentially incompatible converter\n",
      "  return ax.plot(*args, **kwds)\n"
     ]
    },
    {
     "data": {
      "text/plain": [
       "<matplotlib.legend.Legend at 0x2059866a350>"
      ]
     },
     "execution_count": 47,
     "metadata": {},
     "output_type": "execute_result"
    },
    {
     "data": {
      "image/png": "[encoded data removed]",
      "text/plain": [
       "<Figure size 1000x1000 with 1 Axes>"
      ]
     },
     "metadata": {},
     "output_type": "display_data"
    }
   ],
   "source": [
    "fig, ax1 = plt.subplots(figsize=(10, 10))\n",
    "fig1 = model.plot(forecast, ax=ax1)\n",
    "df[[\"Close\"]].loc[train_end_date:].plot(ax=ax1, color=\"orange\")\n",
    "plt.legend()"
   ]
  },
  {
   "cell_type": "code",
   "execution_count": 48,
   "id": "bf30678c78ed8f70",
   "metadata": {
    "ExecuteTime": {
     "end_time": "2025-10-07T23:20:17.776675Z",
     "start_time": "2025-10-07T23:20:17.762172Z"
    }
   },
   "outputs": [
    {
     "data": {
      "text/html": [
       "<div>\n",
       "<style scoped>\n",
       "    .dataframe tbody tr th:only-of-type {\n",
       "        vertical-align: middle;\n",
       "    }\n",
       "\n",
       "    .dataframe tbody tr th {\n",
       "        vertical-align: top;\n",
       "    }\n",
       "\n",
       "    .dataframe thead th {\n",
       "        text-align: right;\n",
       "    }\n",
       "</style>\n",
       "<table border=\"1\" class=\"dataframe\">\n",
       "  <thead>\n",
       "    <tr style=\"text-align: right;\">\n",
       "      <th></th>\n",
       "      <th>ds</th>\n",
       "      <th>trend</th>\n",
       "      <th>yhat_lower</th>\n",
       "      <th>yhat_upper</th>\n",
       "      <th>trend_lower</th>\n",
       "      <th>trend_upper</th>\n",
       "      <th>additive_terms</th>\n",
       "      <th>additive_terms_lower</th>\n",
       "      <th>additive_terms_upper</th>\n",
       "      <th>weekly</th>\n",
       "      <th>weekly_lower</th>\n",
       "      <th>weekly_upper</th>\n",
       "      <th>yearly</th>\n",
       "      <th>yearly_lower</th>\n",
       "      <th>yearly_upper</th>\n",
       "      <th>multiplicative_terms</th>\n",
       "      <th>multiplicative_terms_lower</th>\n",
       "      <th>multiplicative_terms_upper</th>\n",
       "      <th>yhat</th>\n",
       "    </tr>\n",
       "  </thead>\n",
       "  <tbody>\n",
       "    <tr>\n",
       "      <th>0</th>\n",
       "      <td>2021-10-01</td>\n",
       "      <td>151.058910</td>\n",
       "      <td>142.951002</td>\n",
       "      <td>151.604091</td>\n",
       "      <td>151.058910</td>\n",
       "      <td>151.058910</td>\n",
       "      <td>-3.950291</td>\n",
       "      <td>-3.950291</td>\n",
       "      <td>-3.950291</td>\n",
       "      <td>-2.344759</td>\n",
       "      <td>-2.344759</td>\n",
       "      <td>-2.344759</td>\n",
       "      <td>-1.605532</td>\n",
       "      <td>-1.605532</td>\n",
       "      <td>-1.605532</td>\n",
       "      <td>0.0</td>\n",
       "      <td>0.0</td>\n",
       "      <td>0.0</td>\n",
       "      <td>147.108620</td>\n",
       "    </tr>\n",
       "    <tr>\n",
       "      <th>1</th>\n",
       "      <td>2021-10-04</td>\n",
       "      <td>151.345587</td>\n",
       "      <td>144.421667</td>\n",
       "      <td>152.793188</td>\n",
       "      <td>151.345587</td>\n",
       "      <td>151.345587</td>\n",
       "      <td>-2.979305</td>\n",
       "      <td>-2.979305</td>\n",
       "      <td>-2.979305</td>\n",
       "      <td>-2.286624</td>\n",
       "      <td>-2.286624</td>\n",
       "      <td>-2.286624</td>\n",
       "      <td>-0.692681</td>\n",
       "      <td>-0.692681</td>\n",
       "      <td>-0.692681</td>\n",
       "      <td>0.0</td>\n",
       "      <td>0.0</td>\n",
       "      <td>0.0</td>\n",
       "      <td>148.366283</td>\n",
       "    </tr>\n",
       "    <tr>\n",
       "      <th>2</th>\n",
       "      <td>2021-10-05</td>\n",
       "      <td>151.441146</td>\n",
       "      <td>145.084010</td>\n",
       "      <td>153.073941</td>\n",
       "      <td>151.441146</td>\n",
       "      <td>151.441146</td>\n",
       "      <td>-2.599713</td>\n",
       "      <td>-2.599713</td>\n",
       "      <td>-2.599713</td>\n",
       "      <td>-2.218994</td>\n",
       "      <td>-2.218994</td>\n",
       "      <td>-2.218994</td>\n",
       "      <td>-0.380719</td>\n",
       "      <td>-0.380719</td>\n",
       "      <td>-0.380719</td>\n",
       "      <td>0.0</td>\n",
       "      <td>0.0</td>\n",
       "      <td>0.0</td>\n",
       "      <td>148.841433</td>\n",
       "    </tr>\n",
       "    <tr>\n",
       "      <th>3</th>\n",
       "      <td>2021-10-06</td>\n",
       "      <td>151.536705</td>\n",
       "      <td>145.112031</td>\n",
       "      <td>153.162099</td>\n",
       "      <td>151.536705</td>\n",
       "      <td>151.536705</td>\n",
       "      <td>-2.166635</td>\n",
       "      <td>-2.166635</td>\n",
       "      <td>-2.166635</td>\n",
       "      <td>-2.088997</td>\n",
       "      <td>-2.088997</td>\n",
       "      <td>-2.088997</td>\n",
       "      <td>-0.077637</td>\n",
       "      <td>-0.077637</td>\n",
       "      <td>-0.077637</td>\n",
       "      <td>0.0</td>\n",
       "      <td>0.0</td>\n",
       "      <td>0.0</td>\n",
       "      <td>149.370071</td>\n",
       "    </tr>\n",
       "    <tr>\n",
       "      <th>4</th>\n",
       "      <td>2021-10-07</td>\n",
       "      <td>151.632264</td>\n",
       "      <td>145.648249</td>\n",
       "      <td>153.346119</td>\n",
       "      <td>151.632264</td>\n",
       "      <td>151.632264</td>\n",
       "      <td>-2.030886</td>\n",
       "      <td>-2.030886</td>\n",
       "      <td>-2.030886</td>\n",
       "      <td>-2.240438</td>\n",
       "      <td>-2.240438</td>\n",
       "      <td>-2.240438</td>\n",
       "      <td>0.209552</td>\n",
       "      <td>0.209552</td>\n",
       "      <td>0.209552</td>\n",
       "      <td>0.0</td>\n",
       "      <td>0.0</td>\n",
       "      <td>0.0</td>\n",
       "      <td>149.601379</td>\n",
       "    </tr>\n",
       "    <tr>\n",
       "      <th>...</th>\n",
       "      <td>...</td>\n",
       "      <td>...</td>\n",
       "      <td>...</td>\n",
       "      <td>...</td>\n",
       "      <td>...</td>\n",
       "      <td>...</td>\n",
       "      <td>...</td>\n",
       "      <td>...</td>\n",
       "      <td>...</td>\n",
       "      <td>...</td>\n",
       "      <td>...</td>\n",
       "      <td>...</td>\n",
       "      <td>...</td>\n",
       "      <td>...</td>\n",
       "      <td>...</td>\n",
       "      <td>...</td>\n",
       "      <td>...</td>\n",
       "      <td>...</td>\n",
       "      <td>...</td>\n",
       "    </tr>\n",
       "    <tr>\n",
       "      <th>58</th>\n",
       "      <td>2021-12-23</td>\n",
       "      <td>158.990310</td>\n",
       "      <td>157.965905</td>\n",
       "      <td>170.341980</td>\n",
       "      <td>154.465431</td>\n",
       "      <td>163.564362</td>\n",
       "      <td>5.094009</td>\n",
       "      <td>5.094009</td>\n",
       "      <td>5.094009</td>\n",
       "      <td>-2.240438</td>\n",
       "      <td>-2.240438</td>\n",
       "      <td>-2.240438</td>\n",
       "      <td>7.334447</td>\n",
       "      <td>7.334447</td>\n",
       "      <td>7.334447</td>\n",
       "      <td>0.0</td>\n",
       "      <td>0.0</td>\n",
       "      <td>0.0</td>\n",
       "      <td>164.084319</td>\n",
       "    </tr>\n",
       "    <tr>\n",
       "      <th>59</th>\n",
       "      <td>2021-12-27</td>\n",
       "      <td>159.372546</td>\n",
       "      <td>159.145845</td>\n",
       "      <td>171.705504</td>\n",
       "      <td>154.739954</td>\n",
       "      <td>164.092772</td>\n",
       "      <td>6.110753</td>\n",
       "      <td>6.110753</td>\n",
       "      <td>6.110753</td>\n",
       "      <td>-2.286624</td>\n",
       "      <td>-2.286624</td>\n",
       "      <td>-2.286624</td>\n",
       "      <td>8.397377</td>\n",
       "      <td>8.397377</td>\n",
       "      <td>8.397377</td>\n",
       "      <td>0.0</td>\n",
       "      <td>0.0</td>\n",
       "      <td>0.0</td>\n",
       "      <td>165.483298</td>\n",
       "    </tr>\n",
       "    <tr>\n",
       "      <th>60</th>\n",
       "      <td>2021-12-28</td>\n",
       "      <td>159.468105</td>\n",
       "      <td>159.537970</td>\n",
       "      <td>172.142187</td>\n",
       "      <td>154.661814</td>\n",
       "      <td>164.278814</td>\n",
       "      <td>6.341635</td>\n",
       "      <td>6.341635</td>\n",
       "      <td>6.341635</td>\n",
       "      <td>-2.218994</td>\n",
       "      <td>-2.218994</td>\n",
       "      <td>-2.218994</td>\n",
       "      <td>8.560629</td>\n",
       "      <td>8.560629</td>\n",
       "      <td>8.560629</td>\n",
       "      <td>0.0</td>\n",
       "      <td>0.0</td>\n",
       "      <td>0.0</td>\n",
       "      <td>165.809740</td>\n",
       "    </tr>\n",
       "    <tr>\n",
       "      <th>61</th>\n",
       "      <td>2021-12-29</td>\n",
       "      <td>159.563664</td>\n",
       "      <td>159.675974</td>\n",
       "      <td>172.614857</td>\n",
       "      <td>154.603302</td>\n",
       "      <td>164.474350</td>\n",
       "      <td>6.593474</td>\n",
       "      <td>6.593474</td>\n",
       "      <td>6.593474</td>\n",
       "      <td>-2.088997</td>\n",
       "      <td>-2.088997</td>\n",
       "      <td>-2.088997</td>\n",
       "      <td>8.682471</td>\n",
       "      <td>8.682471</td>\n",
       "      <td>8.682471</td>\n",
       "      <td>0.0</td>\n",
       "      <td>0.0</td>\n",
       "      <td>0.0</td>\n",
       "      <td>166.157137</td>\n",
       "    </tr>\n",
       "    <tr>\n",
       "      <th>62</th>\n",
       "      <td>2021-12-30</td>\n",
       "      <td>159.659223</td>\n",
       "      <td>159.860610</td>\n",
       "      <td>172.941168</td>\n",
       "      <td>154.554332</td>\n",
       "      <td>164.658652</td>\n",
       "      <td>6.523922</td>\n",
       "      <td>6.523922</td>\n",
       "      <td>6.523922</td>\n",
       "      <td>-2.240438</td>\n",
       "      <td>-2.240438</td>\n",
       "      <td>-2.240438</td>\n",
       "      <td>8.764360</td>\n",
       "      <td>8.764360</td>\n",
       "      <td>8.764360</td>\n",
       "      <td>0.0</td>\n",
       "      <td>0.0</td>\n",
       "      <td>0.0</td>\n",
       "      <td>166.183145</td>\n",
       "    </tr>\n",
       "  </tbody>\n",
       "</table>\n",
       "<p>63 rows × 19 columns</p>\n",
       "</div>"
      ],
      "text/plain": [
       "           ds       trend  yhat_lower  yhat_upper  trend_lower  trend_upper  \\\n",
       "0  2021-10-01  151.058910  142.951002  151.604091   151.058910   151.058910   \n",
       "1  2021-10-04  151.345587  144.421667  152.793188   151.345587   151.345587   \n",
       "2  2021-10-05  151.441146  145.084010  153.073941   151.441146   151.441146   \n",
       "3  2021-10-06  151.536705  145.112031  153.162099   151.536705   151.536705   \n",
       "4  2021-10-07  151.632264  145.648249  153.346119   151.632264   151.632264   \n",
       "..        ...         ...         ...         ...          ...          ...   \n",
       "58 2021-12-23  158.990310  157.965905  170.341980   154.465431   163.564362   \n",
       "59 2021-12-27  159.372546  159.145845  171.705504   154.739954   164.092772   \n",
       "60 2021-12-28  159.468105  159.537970  172.142187   154.661814   164.278814   \n",
       "61 2021-12-29  159.563664  159.675974  172.614857   154.603302   164.474350   \n",
       "62 2021-12-30  159.659223  159.860610  172.941168   154.554332   164.658652   \n",
       "\n",
       "    additive_terms  additive_terms_lower  additive_terms_upper    weekly  \\\n",
       "0        -3.950291             -3.950291             -3.950291 -2.344759   \n",
       "1        -2.979305             -2.979305             -2.979305 -2.286624   \n",
       "2        -2.599713             -2.599713             -2.599713 -2.218994   \n",
       "3        -2.166635             -2.166635             -2.166635 -2.088997   \n",
       "4        -2.030886             -2.030886             -2.030886 -2.240438   \n",
       "..             ...                   ...                   ...       ...   \n",
       "58        5.094009              5.094009              5.094009 -2.240438   \n",
       "59        6.110753              6.110753              6.110753 -2.286624   \n",
       "60        6.341635              6.341635              6.341635 -2.218994   \n",
       "61        6.593474              6.593474              6.593474 -2.088997   \n",
       "62        6.523922              6.523922              6.523922 -2.240438   \n",
       "\n",
       "    weekly_lower  weekly_upper    yearly  yearly_lower  yearly_upper  \\\n",
       "0      -2.344759     -2.344759 -1.605532     -1.605532     -1.605532   \n",
       "1      -2.286624     -2.286624 -0.692681     -0.692681     -0.692681   \n",
       "2      -2.218994     -2.218994 -0.380719     -0.380719     -0.380719   \n",
       "3      -2.088997     -2.088997 -0.077637     -0.077637     -0.077637   \n",
       "4      -2.240438     -2.240438  0.209552      0.209552      0.209552   \n",
       "..           ...           ...       ...           ...           ...   \n",
       "58     -2.240438     -2.240438  7.334447      7.334447      7.334447   \n",
       "59     -2.286624     -2.286624  8.397377      8.397377      8.397377   \n",
       "60     -2.218994     -2.218994  8.560629      8.560629      8.560629   \n",
       "61     -2.088997     -2.088997  8.682471      8.682471      8.682471   \n",
       "62     -2.240438     -2.240438  8.764360      8.764360      8.764360   \n",
       "\n",
       "    multiplicative_terms  multiplicative_terms_lower  \\\n",
       "0                    0.0                         0.0   \n",
       "1                    0.0                         0.0   \n",
       "2                    0.0                         0.0   \n",
       "3                    0.0                         0.0   \n",
       "4                    0.0                         0.0   \n",
       "..                   ...                         ...   \n",
       "58                   0.0                         0.0   \n",
       "59                   0.0                         0.0   \n",
       "60                   0.0                         0.0   \n",
       "61                   0.0                         0.0   \n",
       "62                   0.0                         0.0   \n",
       "\n",
       "    multiplicative_terms_upper        yhat  \n",
       "0                          0.0  147.108620  \n",
       "1                          0.0  148.366283  \n",
       "2                          0.0  148.841433  \n",
       "3                          0.0  149.370071  \n",
       "4                          0.0  149.601379  \n",
       "..                         ...         ...  \n",
       "58                         0.0  164.084319  \n",
       "59                         0.0  165.483298  \n",
       "60                         0.0  165.809740  \n",
       "61                         0.0  166.157137  \n",
       "62                         0.0  166.183145  \n",
       "\n",
       "[63 rows x 19 columns]"
      ]
     },
     "execution_count": 48,
     "metadata": {},
     "output_type": "execute_result"
    }
   ],
   "source": [
    "forecast"
   ]
  },
  {
   "cell_type": "markdown",
   "id": "3a0f0d16864a3a6",
   "metadata": {},
   "source": "# Prophet manual plot"
  },
  {
   "cell_type": "code",
   "execution_count": 19,
   "id": "23e0195bc3730b16",
   "metadata": {
    "ExecuteTime": {
     "end_time": "2025-10-11T14:26:38.693713Z",
     "start_time": "2025-10-11T14:26:38.687538Z"
    }
   },
   "outputs": [
    {
     "data": {
      "text/html": [
       "<div>\n",
       "<style scoped>\n",
       "    .dataframe tbody tr th:only-of-type {\n",
       "        vertical-align: middle;\n",
       "    }\n",
       "\n",
       "    .dataframe tbody tr th {\n",
       "        vertical-align: top;\n",
       "    }\n",
       "\n",
       "    .dataframe thead th {\n",
       "        text-align: right;\n",
       "    }\n",
       "</style>\n",
       "<table border=\"1\" class=\"dataframe\">\n",
       "  <thead>\n",
       "    <tr style=\"text-align: right;\">\n",
       "      <th></th>\n",
       "      <th>time_dummy</th>\n",
       "      <th>day</th>\n",
       "      <th>ds</th>\n",
       "    </tr>\n",
       "    <tr>\n",
       "      <th>Date</th>\n",
       "      <th></th>\n",
       "      <th></th>\n",
       "      <th></th>\n",
       "    </tr>\n",
       "  </thead>\n",
       "  <tbody>\n",
       "    <tr>\n",
       "      <th>2021-10-01</th>\n",
       "      <td>694</td>\n",
       "      <td>1</td>\n",
       "      <td>2021-10-01</td>\n",
       "    </tr>\n",
       "    <tr>\n",
       "      <th>2021-10-04</th>\n",
       "      <td>695</td>\n",
       "      <td>4</td>\n",
       "      <td>2021-10-04</td>\n",
       "    </tr>\n",
       "    <tr>\n",
       "      <th>2021-10-05</th>\n",
       "      <td>696</td>\n",
       "      <td>5</td>\n",
       "      <td>2021-10-05</td>\n",
       "    </tr>\n",
       "    <tr>\n",
       "      <th>2021-10-06</th>\n",
       "      <td>697</td>\n",
       "      <td>6</td>\n",
       "      <td>2021-10-06</td>\n",
       "    </tr>\n",
       "    <tr>\n",
       "      <th>2021-10-07</th>\n",
       "      <td>698</td>\n",
       "      <td>7</td>\n",
       "      <td>2021-10-07</td>\n",
       "    </tr>\n",
       "    <tr>\n",
       "      <th>...</th>\n",
       "      <td>...</td>\n",
       "      <td>...</td>\n",
       "      <td>...</td>\n",
       "    </tr>\n",
       "    <tr>\n",
       "      <th>2021-12-23</th>\n",
       "      <td>752</td>\n",
       "      <td>23</td>\n",
       "      <td>2021-12-23</td>\n",
       "    </tr>\n",
       "    <tr>\n",
       "      <th>2021-12-27</th>\n",
       "      <td>753</td>\n",
       "      <td>27</td>\n",
       "      <td>2021-12-27</td>\n",
       "    </tr>\n",
       "    <tr>\n",
       "      <th>2021-12-28</th>\n",
       "      <td>754</td>\n",
       "      <td>28</td>\n",
       "      <td>2021-12-28</td>\n",
       "    </tr>\n",
       "    <tr>\n",
       "      <th>2021-12-29</th>\n",
       "      <td>755</td>\n",
       "      <td>29</td>\n",
       "      <td>2021-12-29</td>\n",
       "    </tr>\n",
       "    <tr>\n",
       "      <th>2021-12-30</th>\n",
       "      <td>756</td>\n",
       "      <td>30</td>\n",
       "      <td>2021-12-30</td>\n",
       "    </tr>\n",
       "  </tbody>\n",
       "</table>\n",
       "<p>63 rows × 3 columns</p>\n",
       "</div>"
      ],
      "text/plain": [
       "            time_dummy  day         ds\n",
       "Date                                  \n",
       "2021-10-01         694    1 2021-10-01\n",
       "2021-10-04         695    4 2021-10-04\n",
       "2021-10-05         696    5 2021-10-05\n",
       "2021-10-06         697    6 2021-10-06\n",
       "2021-10-07         698    7 2021-10-07\n",
       "...                ...  ...        ...\n",
       "2021-12-23         752   23 2021-12-23\n",
       "2021-12-27         753   27 2021-12-27\n",
       "2021-12-28         754   28 2021-12-28\n",
       "2021-12-29         755   29 2021-12-29\n",
       "2021-12-30         756   30 2021-12-30\n",
       "\n",
       "[63 rows x 3 columns]"
      ]
     },
     "execution_count": 19,
     "metadata": {},
     "output_type": "execute_result"
    }
   ],
   "source": [
    "future"
   ]
  },
  {
   "cell_type": "code",
   "execution_count": 21,
   "id": "117255830a57be92",
   "metadata": {
    "ExecuteTime": {
     "end_time": "2025-10-11T14:27:28.501599Z",
     "start_time": "2025-10-11T14:27:28.316001Z"
    }
   },
   "outputs": [
    {
     "name": "stderr",
     "output_type": "stream",
     "text": [
      "C:\\Users\\AB2-PC\\Documents\\GitHub\\ab2\\stock-analysis\\.venv\\Lib\\site-packages\\pandas\\plotting\\_matplotlib\\core.py:981: UserWarning: This axis already has a converter set and is updating to a potentially incompatible converter\n",
      "  return ax.plot(*args, **kwds)\n"
     ]
    },
    {
     "data": {
      "image/png": "[encoded data removed]",
      "text/plain": [
       "<Figure size 1000x600 with 1 Axes>"
      ]
     },
     "metadata": {},
     "output_type": "display_data"
    }
   ],
   "source": [
    "import matplotlib.pyplot as plt\n",
    "\n",
    "# Suppose que 'df' contient les données historiques et 'forecast' les prédictions\n",
    "fig, ax = plt.subplots(figsize=(10, 6))\n",
    "\n",
    "# # 1️⃣ Données réelles\n",
    "# ax.plot(future['ds'], future['Close'], 'k.', label='Observations', alpha=0.6)\n",
    "\n",
    "# 2️⃣ Prédictions\n",
    "ax.plot(forecast[\"ds\"], forecast[\"yhat\"], color=\"blue\", label=\"Prédiction\")\n",
    "\n",
    "# 3️⃣ Intervalle de confiance\n",
    "ax.fill_between(\n",
    "    forecast[\"ds\"],\n",
    "    forecast[\"yhat_lower\"],\n",
    "    forecast[\"yhat_upper\"],\n",
    "    color=\"blue\",\n",
    "    alpha=0.2,\n",
    "    label=\"Intervalle de confiance\",\n",
    ")\n",
    "\n",
    "# 4️⃣ Options esthétiques\n",
    "ax.set_title(\"Prévision avec Prophet (personnalisée)\", fontsize=14)\n",
    "ax.set_xlabel(\"Date\")\n",
    "ax.set_ylabel(\"Valeur prédite\")\n",
    "ax.legend()\n",
    "ax.grid(True, alpha=0.3)\n",
    "\n",
    "\n",
    "df[[\"Close\"]].loc[train_end_date:].plot(ax=ax, color=\"orange\")\n",
    "\n",
    "plt.show()"
   ]
  },
  {
   "cell_type": "code",
   "execution_count": null,
   "id": "a9f9f57553e94e82",
   "metadata": {},
   "outputs": [],
   "source": []
  },
  {
   "cell_type": "code",
   "execution_count": null,
   "id": "77f4457f03bc891a",
   "metadata": {},
   "outputs": [],
   "source": []
  },
  {
   "cell_type": "code",
   "execution_count": null,
   "id": "655b8ba3e854bcb8",
   "metadata": {},
   "outputs": [],
   "source": []
  },
  {
   "cell_type": "markdown",
   "id": "e1906783d2640452",
   "metadata": {},
   "source": "# Animation (working but not satisfying)"
  },
  {
   "cell_type": "code",
   "execution_count": 71,
   "id": "8100671ca09e93ed",
   "metadata": {
    "ExecuteTime": {
     "end_time": "2025-10-07T23:27:37.251339Z",
     "start_time": "2025-10-07T23:27:37.248242Z"
    }
   },
   "outputs": [],
   "source": [
    "y = df[\"Close\"].loc[train_end_date:]\n",
    "future_x = forecast[\"ds\"]"
   ]
  },
  {
   "cell_type": "code",
   "execution_count": 74,
   "id": "bc7e7cfdb369a74b",
   "metadata": {
    "ExecuteTime": {
     "end_time": "2025-10-07T23:28:42.835125Z",
     "start_time": "2025-10-07T23:28:42.683359Z"
    }
   },
   "outputs": [
    {
     "data": {
      "image/png": "[encoded data removed]",
      "text/plain": [
       "<Figure size 640x480 with 1 Axes>"
      ]
     },
     "metadata": {},
     "output_type": "display_data"
    }
   ],
   "source": [
    "fig, ax = plt.subplots()\n",
    "ax.set_title(\"Time Series Forecasting\")\n",
    "ax.set_xlabel(\"Time Index\")\n",
    "ax.set_ylabel(\"Target Value\")\n",
    "ax.scatter(future_x, y, color=\"teal\")\n",
    "\n",
    "(line,) = ax.plot([], [], color=\"navy\")"
   ]
  },
  {
   "cell_type": "code",
   "execution_count": 83,
   "id": "5a679abc68d7a02d",
   "metadata": {
    "ExecuteTime": {
     "end_time": "2025-10-07T23:36:42.127598Z",
     "start_time": "2025-10-07T23:36:36.728588Z"
    }
   },
   "outputs": [
    {
     "data": {
      "image/png": "[encoded data removed]",
      "text/plain": [
       "<Figure size 640x480 with 1 Axes>"
      ]
     },
     "metadata": {},
     "output_type": "display_data"
    }
   ],
   "source": [
    "beginning_x = \"\"\n",
    "beginning_y = df[\"Close\"].loc[train_end_date:]\n",
    "\n",
    "y = df[\"Close\"].loc[train_end_date:] - 100\n",
    "future_x = range(len(y))  # forecast[\"ds\"]\n",
    "future_mean = forecast[\"yhat\"] - 100\n",
    "future_std = forecast[\"yhat\"] * 0.1\n",
    "\n",
    "# Création de la figure\n",
    "fig, ax = plt.subplots()\n",
    "ax.set_title(\"Time Series Forecasting\")\n",
    "ax.set_xlabel(\"Time Index\")\n",
    "ax.set_ylabel(\"Target Value\")\n",
    "ax.scatter(future_x, y, color=\"teal\")\n",
    "\n",
    "(line,) = ax.plot([], [], color=\"navy\")\n",
    "fill = None\n",
    "\n",
    "# Limites initiales\n",
    "# ax.set_xlim(0, 25)\n",
    "# ax.set_ylim(-1, 1.5)\n",
    "\n",
    "\n",
    "def init():\n",
    "    line.set_data([], [])\n",
    "    return (line,)\n",
    "\n",
    "\n",
    "def animate(i):\n",
    "    global fill\n",
    "    if fill:\n",
    "        fill.remove()\n",
    "\n",
    "    x_data = future_x[:i]\n",
    "    y_mean = future_mean[:i]\n",
    "    y_std = future_std[:i]\n",
    "\n",
    "    line.set_data(x_data, y_mean)\n",
    "\n",
    "    if len(x_data) > 0:\n",
    "        fill = ax.fill_between(\n",
    "            x_data, y_mean - y_std, y_mean + y_std, color=\"blue\", alpha=0.2\n",
    "        )\n",
    "        target_xmax = 25 + i * 1.5\n",
    "        target_ymax = max(1.5, np.max(y_mean + y_std) + 0.2)\n",
    "    else:\n",
    "        target_xmax = 25\n",
    "        target_ymax = 1.5\n",
    "\n",
    "    # --- Zoom fluide (effet easing) ---\n",
    "    current_xlim = ax.get_xlim()\n",
    "    current_ylim = ax.get_ylim()\n",
    "    smooth_xmax = current_xlim[1] + 0.15 * (target_xmax - current_xlim[1])\n",
    "    smooth_ymax = current_ylim[1] + 0.15 * (target_ymax - current_ylim[1])\n",
    "    ax.set_xlim(0, smooth_xmax)\n",
    "    ax.set_ylim(-1, smooth_ymax)\n",
    "    # -----------------------------------\n",
    "\n",
    "    return line, fill if fill else line\n",
    "\n",
    "\n",
    "ani = animation.FuncAnimation(\n",
    "    fig, animate, init_func=init, frames=len(future_x) + 1, interval=200, blit=False\n",
    ")\n",
    "\n",
    "ani.save(\"prophet.gif\", writer=\"pillow\", fps=15)\n",
    "plt.show()"
   ]
  },
  {
   "cell_type": "markdown",
   "id": "b10a026a7524a4af",
   "metadata": {},
   "source": "# Improve animation"
  },
  {
   "cell_type": "code",
   "execution_count": 91,
   "id": "f99ad542feb967d2",
   "metadata": {
    "ExecuteTime": {
     "end_time": "2025-10-07T23:41:08.102869Z",
     "start_time": "2025-10-07T23:41:08.099646Z"
    }
   },
   "outputs": [
    {
     "data": {
      "text/plain": [
       "63"
      ]
     },
     "execution_count": 91,
     "metadata": {},
     "output_type": "execute_result"
    }
   ],
   "source": [
    "len(y)"
   ]
  },
  {
   "cell_type": "code",
   "execution_count": 92,
   "id": "72117a189974ee16",
   "metadata": {
    "ExecuteTime": {
     "end_time": "2025-10-07T23:41:47.002766Z",
     "start_time": "2025-10-07T23:41:41.916271Z"
    }
   },
   "outputs": [
    {
     "data": {
      "image/png": "[encoded data removed]",
      "text/plain": [
       "<Figure size 640x480 with 1 Axes>"
      ]
     },
     "metadata": {},
     "output_type": "display_data"
    }
   ],
   "source": [
    "TEMP_OFFSET_TO_DELETE = 100\n",
    "beginning_y = df[\"Close\"][-150:-63] - TEMP_OFFSET_TO_DELETE\n",
    "beginning_x = range(len(beginning_y))\n",
    "\n",
    "y = df[\"Close\"].loc[train_end_date:] - TEMP_OFFSET_TO_DELETE\n",
    "future_x = range(len(beginning_y), len(beginning_y) + len(y))  # forecast[\"ds\"]\n",
    "future_mean = forecast[\"yhat\"] - TEMP_OFFSET_TO_DELETE\n",
    "future_std = forecast[\"yhat\"] * 0.1\n",
    "\n",
    "# Création de la figure\n",
    "fig, ax = plt.subplots()\n",
    "ax.set_title(\"Time Series Forecasting\")\n",
    "ax.set_xlabel(\"Time Index\")\n",
    "ax.set_ylabel(\"Target Value\")\n",
    "ax.scatter(beginning_x, beginning_y, color=\"teal\")\n",
    "\n",
    "(line,) = ax.plot([], [], color=\"navy\")\n",
    "fill = None\n",
    "\n",
    "# Limites initiales\n",
    "# ax.set_xlim(0, 25)\n",
    "# ax.set_ylim(-1, 1.5)\n",
    "\n",
    "\n",
    "def init():\n",
    "    line.set_data([], [])\n",
    "    return (line,)\n",
    "\n",
    "\n",
    "def animate(i):\n",
    "    global fill\n",
    "    if fill:\n",
    "        fill.remove()\n",
    "\n",
    "    x_data = future_x[:i]\n",
    "    y_mean = future_mean[:i]\n",
    "    y_std = future_std[:i]\n",
    "\n",
    "    line.set_data(x_data, y_mean)\n",
    "\n",
    "    if len(x_data) > 0:\n",
    "        fill = ax.fill_between(\n",
    "            x_data, y_mean - y_std, y_mean + y_std, color=\"blue\", alpha=0.2\n",
    "        )\n",
    "        target_xmax = 25 + i * 1.5\n",
    "        target_ymax = max(1.5, np.max(y_mean + y_std) + 0.2)\n",
    "    else:\n",
    "        target_xmax = 25\n",
    "        target_ymax = 1.5\n",
    "\n",
    "    # --- Zoom fluide (effet easing) ---\n",
    "    current_xlim = ax.get_xlim()\n",
    "    current_ylim = ax.get_ylim()\n",
    "    smooth_xmax = current_xlim[1] + 0.15 * (target_xmax - current_xlim[1])\n",
    "    smooth_ymax = current_ylim[1] + 0.15 * (target_ymax - current_ylim[1])\n",
    "    ax.set_xlim(0, smooth_xmax)\n",
    "    ax.set_ylim(-1, smooth_ymax)\n",
    "    # -----------------------------------\n",
    "\n",
    "    return line, fill if fill else line\n",
    "\n",
    "\n",
    "ani = animation.FuncAnimation(\n",
    "    fig, animate, init_func=init, frames=len(future_x) + 1, interval=200, blit=False\n",
    ")\n",
    "\n",
    "ani.save(\"prophet2.gif\", writer=\"pillow\", fps=15)\n",
    "plt.show()"
   ]
  },
  {
   "cell_type": "code",
   "execution_count": null,
   "id": "c677ab370fa21369",
   "metadata": {},
   "outputs": [],
   "source": []
  }
 ],
 "metadata": {
  "kernelspec": {
   "display_name": "Python 3",
   "language": "python",
   "name": "python3"
  },
  "language_info": {
   "codemirror_mode": {
    "name": "ipython",
    "version": 2
   },
   "file_extension": ".py",
   "mimetype": "text/x-python",
   "name": "python",
   "nbconvert_exporter": "python",
   "pygments_lexer": "ipython2",
   "version": "2.7.6"
  }
 },
 "nbformat": 4,
 "nbformat_minor": 5
}
